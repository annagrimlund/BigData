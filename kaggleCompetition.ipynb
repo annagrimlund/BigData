{
 "cells": [
  {
   "cell_type": "code",
   "execution_count": 36,
   "metadata": {},
   "outputs": [],
   "source": [
    "import pandas as pd\n",
    "import sklearn\n",
    "import numpy as np\n",
    "import ast\n",
    "from sklearn.preprocessing import MultiLabelBinarizer\n",
    "import matplotlib.pyplot as plt\n",
    "\n",
    "#load the data from the csv to the pandas df\n"
   ]
  },
  {
   "cell_type": "code",
   "execution_count": 54,
   "metadata": {},
   "outputs": [],
   "source": [
    "def data_transformer(df, file):\n",
    "    columns_to_drop = [\"imdb_id\", \"original_title\", \"overview\", \"poster_path\", \"status\", \"tagline\", \"title\"]\n",
    "    df.drop(columns=columns_to_drop, inplace=True)\n",
    "    df[\"belongs_to_collection\"] = np.where(df[\"belongs_to_collection\"].isnull(), 0, 1)\n",
    "    df[\"homepage\"] = np.where(df[\"homepage\"].isnull(), 0, 1)\n",
    "    df[\"original_language\"] = np.where(df[\"original_language\"]==\"en\", 1, 0)\n",
    "    df['release_date'] = pd.to_datetime(df['release_date'], format='%m/%d/%y')\n",
    "    df['release_date'] = df['release_date'].apply(lambda x: x.replace(year=x.year-100) if x.year > 2019 else x)\n",
    "\n",
    "    colList = [\"genres\"]\n",
    "    for col in colList:\n",
    "        df[col] = np.where(df[col].isnull(), \"[]\", df[col])\n",
    "        df[col] = df[col].apply(ast.literal_eval)\n",
    "        df[col] = df[col].apply(lambda x: [str(item[\"id\"]) for item in x])\n",
    "        mlb = MultiLabelBinarizer()\n",
    "        newData = mlb.fit_transform(df[col])\n",
    "        newDf = pd.DataFrame(newData, columns=col+\"_\" + mlb.classes_)\n",
    "        df = pd.merge(df, newDf, how='inner', left_index=True, right_index=True)\n",
    "        df[col] = df[col].apply(len)\n",
    "        df = df.rename(columns={col: col+\"_num\"})\n",
    "\n",
    "    colList = [\"production_companies\", \"spoken_languages\", \"Keywords\", \"cast\", \"crew\", \"production_countries\"]\n",
    "\n",
    "    for col in colList:\n",
    "        df[col] = np.where(df[col].isnull(), \"[]\", df[col])\n",
    "        df[col] = df[col].apply(ast.literal_eval)\n",
    "        df[col] = df[col].apply(len)\n",
    "        df = df.rename(columns={col: col+\"_num\"})\n",
    "    excel_file_path = 'clean_'+file+'.xlsx'\n",
    "    df.to_excel(excel_file_path, index=False)\n",
    "    return df"
   ]
  },
  {
   "cell_type": "code",
   "execution_count": 55,
   "metadata": {},
   "outputs": [],
   "source": [
    "df = pd.read_csv('train.csv')\n",
    "newdf = data_transformer(df, \"train\")"
   ]
  },
  {
   "cell_type": "code",
   "execution_count": 56,
   "metadata": {},
   "outputs": [],
   "source": [
    "df = pd.read_csv('test.csv')\n",
    "newdf = data_transformer(df, \"test\")"
   ]
  }
 ],
 "metadata": {
  "kernelspec": {
   "display_name": "MachineLearning",
   "language": "python",
   "name": "python3"
  },
  "language_info": {
   "codemirror_mode": {
    "name": "ipython",
    "version": 3
   },
   "file_extension": ".py",
   "mimetype": "text/x-python",
   "name": "python",
   "nbconvert_exporter": "python",
   "pygments_lexer": "ipython3",
   "version": "3.10.11"
  }
 },
 "nbformat": 4,
 "nbformat_minor": 2
}
