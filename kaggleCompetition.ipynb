{
 "cells": [
  {
   "cell_type": "code",
   "execution_count": 2,
   "metadata": {},
   "outputs": [],
   "source": [
    "import pandas as pd\n",
    "import sklearn\n",
    "import numpy as np\n",
    "import ast\n",
    "from sklearn.preprocessing import MultiLabelBinarizer, PowerTransformer, StandardScaler\n",
    "from sklearn.neural_network import MLPRegressor\n",
    "import matplotlib.pyplot as plt\n",
    "from sklearn.model_selection import train_test_split\n",
    "\n",
    "#load the data from the csv to the pandas df\n"
   ]
  },
  {
   "cell_type": "code",
   "execution_count": 38,
   "metadata": {},
   "outputs": [],
   "source": [
    "def data_transformer(df):\n",
    "    columns_to_drop = [\"imdb_id\", \"original_title\", \"poster_path\", \"status\", \"title\"]\n",
    "    df.drop(columns=columns_to_drop, inplace=True)\n",
    "    df[\"belongs_to_collection\"] = np.where(df[\"belongs_to_collection\"].isnull(), 0, 1)\n",
    "    df[\"homepage\"] = np.where(df[\"homepage\"].isnull(), 0, 1)\n",
    "    df[\"original_language\"] = np.where(df[\"original_language\"]==\"en\", 1, 0)\n",
    "    df['release_date'] = pd.to_datetime(df['release_date'], format='%m/%d/%y')\n",
    "    df['release_year'] = df['release_date'].dt.year\n",
    "    df['budget_year_ratio'] = df['budget']/df['release_year']\n",
    "    df['release_date'] = df['release_date'].apply(lambda x: x.replace(year=x.year-100) if x.year > 2019 else x)\n",
    "    df['runtime'] = df['runtime'].fillna(df['runtime'].mean())\n",
    "    df['overview'] = df['overview'].astype(str).apply(len)\n",
    "    df['tagline'] = df['tagline'].astype(str).apply(len)\n",
    "    \n",
    "    colList = [\"production_companies\", \"genres\", \"spoken_languages\",  \"cast\", \"crew\", \"production_countries\"]\n",
    "    for col in colList:\n",
    "        df[col] = np.where(df[col].isnull(), \"[]\", df[col])\n",
    "        df[col] = df[col].apply(ast.literal_eval)\n",
    "        df[col] = df[col].apply(lambda x: [str(item[\"name\"]) for item in x])\n",
    "        mlb = MultiLabelBinarizer()\n",
    "        newData = mlb.fit_transform(df[col])\n",
    "        newDf = pd.DataFrame(newData, columns=col+\"_\" + mlb.classes_)\n",
    "        df = pd.merge(df, newDf, how='inner', left_index=True, right_index=True)\n",
    "        df[col] = df[col].apply(len)\n",
    "        df = df.rename(columns={col: col+\"_num\"})\n",
    "    if 'genres_10770' not in df.columns:\n",
    "        df['genres_10770'] = 0\n",
    "\n",
    "    colList = [\"Keywords\",]\n",
    "\n",
    "    for col in colList:\n",
    "        df[col] = np.where(df[col].isnull(), \"[]\", df[col])\n",
    "        df[col] = df[col].apply(ast.literal_eval)\n",
    "        df[col] = df[col].apply(len)\n",
    "        df = df.rename(columns={col: col+\"_num\"})\n",
    "    return df"
   ]
  },
  {
   "cell_type": "code",
   "execution_count": 39,
   "metadata": {},
   "outputs": [],
   "source": [
    "train = pd.read_csv('train.csv')\n",
    "\n",
    "test = pd.read_csv('test.csv')\n",
    "\n",
    "all_data = data_transformer(pd.concat([train, test]).reset_index(drop = True))\n",
    "training = all_data.loc[:train.shape[0] - 1,:]\n",
    "testing = all_data.loc[train.shape[0]:,:] \n"
   ]
  },
  {
   "cell_type": "code",
   "execution_count": 40,
   "metadata": {},
   "outputs": [
    {
     "name": "stderr",
     "output_type": "stream",
     "text": [
      "C:\\Users\\user\\AppData\\Local\\Temp\\ipykernel_46760\\2158897774.py:4: SettingWithCopyWarning: \n",
      "A value is trying to be set on a copy of a slice from a DataFrame.\n",
      "Try using .loc[row_indexer,col_indexer] = value instead\n",
      "\n",
      "See the caveats in the documentation: https://pandas.pydata.org/pandas-docs/stable/user_guide/indexing.html#returning-a-view-versus-a-copy\n",
      "  training[col] = np.log1p(training[col])\n",
      "C:\\Users\\user\\AppData\\Local\\Temp\\ipykernel_46760\\2158897774.py:24: SettingWithCopyWarning: \n",
      "A value is trying to be set on a copy of a slice from a DataFrame.\n",
      "Try using .loc[row_indexer,col_indexer] = value instead\n",
      "\n",
      "See the caveats in the documentation: https://pandas.pydata.org/pandas-docs/stable/user_guide/indexing.html#returning-a-view-versus-a-copy\n",
      "  training['revenue'] = np.log1p(training['revenue'])\n",
      "C:\\Users\\user\\AppData\\Local\\Temp\\ipykernel_46760\\2158897774.py:32: SettingWithCopyWarning: \n",
      "A value is trying to be set on a copy of a slice from a DataFrame.\n",
      "Try using .loc[row_indexer,col_indexer] = value instead\n",
      "\n",
      "See the caveats in the documentation: https://pandas.pydata.org/pandas-docs/stable/user_guide/indexing.html#returning-a-view-versus-a-copy\n",
      "  testing[col] = np.log1p(testing[col])\n"
     ]
    }
   ],
   "source": [
    "logTransformList = ['budget', 'budget_year_ratio']\n",
    "\n",
    "for col in logTransformList:\n",
    "    training[col] = np.log1p(training[col])\n",
    "\n",
    "columns_to_standardize = ['budget', 'genres_num','popularity', 'production_companies_num','production_countries_num', 'runtime',\n",
    "       'spoken_languages_num', 'Keywords_num', 'cast_num', 'crew_num','overview', 'tagline']\n",
    "dropCol = ['id', 'revenue', 'release_date']\n",
    "xScaler = StandardScaler()\n",
    "normalCol = [x for x in training.columns if x not in columns_to_standardize]\n",
    "normalCol = [x for x in normalCol if x not in dropCol]\n",
    "# normalCol = ['belongs_to_collection',  'homepage',\n",
    "#        'original_language', \n",
    "#         'genres_10402', 'genres_10749', 'genres_10751',\n",
    "#        'genres_10752', 'genres_10769', 'genres_10770', 'genres_12',\n",
    "#        'genres_14', 'genres_16', 'genres_18', 'genres_27', 'genres_28',\n",
    "#        'genres_35', 'genres_36', 'genres_37', 'genres_53', 'genres_80',\n",
    "#        'genres_878', 'genres_9648', 'genres_99']\n",
    "standardized = xScaler.fit_transform(training[columns_to_standardize])\n",
    "\n",
    "# Concatenate the standardized columns with the original columns\n",
    "X_train = np.concatenate((standardized, training[normalCol]), axis=1)\n",
    "\n",
    "training['revenue'] = np.log1p(training['revenue'])\n",
    "y_train = training['revenue']\n",
    "y_train = y_train.values.reshape(-1, 1)\n",
    "\n",
    "yScaler = StandardScaler()\n",
    "y_train = yScaler.fit_transform(y_train)\n",
    "y_train = y_train.ravel()\n",
    "for col in logTransformList:\n",
    "    testing[col] = np.log1p(testing[col])\n",
    "standardized = xScaler.transform(testing[columns_to_standardize])\n",
    "\n",
    "# Concatenate the standardized columns with the original columns\n",
    "X_test = np.concatenate((standardized, testing[normalCol]), axis=1)"
   ]
  },
  {
   "cell_type": "code",
   "execution_count": 35,
   "metadata": {},
   "outputs": [
    {
     "data": {
      "text/plain": [
       "(3000, 163924)"
      ]
     },
     "execution_count": 35,
     "metadata": {},
     "output_type": "execute_result"
    }
   ],
   "source": [
    "X_train.shape"
   ]
  },
  {
   "cell_type": "code",
   "execution_count": 19,
   "metadata": {},
   "outputs": [
    {
     "data": {
      "image/png": "[encoded data removed]",
      "text/plain": [
       "<Figure size 640x480 with 1 Axes>"
      ]
     },
     "metadata": {},
     "output_type": "display_data"
    }
   ],
   "source": [
    "model = MLPRegressor(hidden_layer_sizes=(1024, 64), batch_size=512, learning_rate_init=0.004, max_iter=1000, learning_rate=\"invscaling\", early_stopping=True, n_iter_no_change=100, solver=\"adam\")\n",
    "model.fit(X_train, y_train)\n",
    "plt.plot(model.loss_curve_)\n",
    "y_test = model.predict(X_test)\n",
    "yResult = np.expm1(yScaler.inverse_transform(y_test.reshape(-1, 1)).flatten())\n",
    "submitResult = pd.DataFrame({'id': testing['id'], 'revenue': yResult})\n",
    "submitResult.to_csv('submit.csv', index=False)"
   ]
  },
  {
   "cell_type": "code",
   "execution_count": 47,
   "metadata": {},
   "outputs": [],
   "source": [
    "submitResult = pd.DataFrame({'id': testing['id'], 'revenue': yResult})\n",
    "submitResult.to_csv('submit.csv', index=False)"
   ]
  },
  {
   "cell_type": "code",
   "execution_count": 47,
   "metadata": {},
   "outputs": [
    {
     "name": "stdout",
     "output_type": "stream",
     "text": [
      "RMSE :  0.663468\n"
     ]
    }
   ],
   "source": [
    "import xgboost as xg \n",
    "from sklearn.model_selection import train_test_split \n",
    "from sklearn.metrics import mean_squared_error as MSE\n",
    "\n",
    "train_X, test_X, train_y, test_y = train_test_split(X_train, y_train, \n",
    "                      test_size = 0.3, random_state = 123)\n",
    "xgb_r = xg.XGBRegressor(objective ='reg:squarederror', \n",
    "                  n_estimators = 15, seed = 123, max_depth=6) \n",
    "xgb_r.fit(train_X, train_y) \n",
    "  \n",
    "# Predict the model \n",
    "pred = xgb_r.predict(test_X) \n",
    "  \n",
    "# RMSE Computation \n",
    "rmse = np.sqrt(MSE(test_y, pred)) \n",
    "print(\"RMSE : % f\" %(rmse)) "
   ]
  },
  {
   "cell_type": "code",
   "execution_count": 46,
   "metadata": {},
   "outputs": [],
   "source": [
    "y_test = xgb_r.predict(X_test)\n",
    "yResult = np.expm1(yScaler.inverse_transform(y_test.reshape(-1, 1)).flatten())\n",
    "submitResult = pd.DataFrame({'id': testing['id'], 'revenue': yResult})\n",
    "submitResult.to_csv('submit.csv', index=False)"
   ]
  }
 ],
 "metadata": {
  "kernelspec": {
   "display_name": "MachineLearning",
   "language": "python",
   "name": "python3"
  },
  "language_info": {
   "codemirror_mode": {
    "name": "ipython",
    "version": 3
   },
   "file_extension": ".py",
   "mimetype": "text/x-python",
   "name": "python",
   "nbconvert_exporter": "python",
   "pygments_lexer": "ipython3",
   "version": "3.10.11"
  }
 },
 "nbformat": 4,
 "nbformat_minor": 2
}
